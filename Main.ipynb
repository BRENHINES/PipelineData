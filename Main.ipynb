{
 "cells": [
  {
   "metadata": {},
   "cell_type": "markdown",
   "source": [
    "# <u>This is our Mini project for the course \"Fundamental Data Concepts\" (4DACF) at SUPINFO Lyon :</u>\n",
    "\n",
    "## <u>Evaluation Project - Data Processing and Visualization :</u>\n",
    "\n",
    "## <u>Project Objective :</u>\n",
    "You will design a complete data processing pipeline that includes several key steps: anonymization, transformation, cleaning, and data visualization.\n",
    "\n",
    "\n",
    "The goal is to leverage multiple technologies to produce a high-quality pipeline that adheres to best practices.\n",
    "\n",
    "This project must be carried out in groups of up to three students.\n",
    "\n",
    "## <u>Contexte :</u>\n",
    "A fictional e-commerce company aims to leverage its customer and transaction data while complying with GDPR regulations.\n",
    "\n",
    "The company has a dataset containing sensitive information and seeks to obtain:\n",
    "\n",
    "- [X] An automated pipeline for anonymizing, transforming, and cleaning the data in python.\n",
    "- [X] A final output optimized for direct use in Power BI.\n",
    "\n",
    "## <u>BONUS :</u>\n",
    "\n",
    "- [ ] A set of visualizations in Python to verify."
   ],
   "id": "8a77807f92f26ee"
  },
  {
   "metadata": {},
   "cell_type": "markdown",
   "source": "# <u>Step 1:</u> Pipeline Preparation: Python code for anonymization, cleaning, and transformation",
   "id": "497a74daa0aa671d"
  },
  {
   "metadata": {
    "ExecuteTime": {
     "end_time": "2025-03-06T19:23:40.660446Z",
     "start_time": "2025-03-06T19:23:40.657125Z"
    }
   },
   "cell_type": "code",
   "source": [
    "from calendar import month\n",
    "\n",
    "# Importing the necessary libraries\n",
    "\n",
    "import pandas as pd\n",
    "import numpy as np\n",
    "import matplotlib.pyplot as plt\n",
    "import seaborn as sns\n",
    "import re\n",
    "import hashlib"
   ],
   "id": "324f03d0f7486edc",
   "outputs": [],
   "execution_count": 88
  },
  {
   "metadata": {},
   "cell_type": "markdown",
   "source": [
    "## 1. Exploratory Data Analysis (EDA)\n",
    "\n",
    "The first step in any data processing pipeline is to understand the data. This involves exploring the data to identify patterns, trends, and potential issues. EDA is a critical step that helps data engineer understand the data and make informed decisions about how to process it."
   ],
   "id": "7261471387cd8c79"
  },
  {
   "metadata": {
    "ExecuteTime": {
     "end_time": "2025-03-06T19:23:40.679252Z",
     "start_time": "2025-03-06T19:23:40.667343Z"
    }
   },
   "cell_type": "code",
   "source": [
    "# Load the dataset : Mini_Projet_Evaluation.csv\n",
    "\n",
    "dataset_file_path: str = 'data/raw/Mini_Projet_Evaluation.csv'\n",
    "dataset = pd.read_csv(dataset_file_path)"
   ],
   "id": "2c6a95f4da68885d",
   "outputs": [],
   "execution_count": 89
  },
  {
   "metadata": {
    "ExecuteTime": {
     "end_time": "2025-03-06T19:23:40.698376Z",
     "start_time": "2025-03-06T19:23:40.694296Z"
    }
   },
   "cell_type": "code",
   "source": [
    "# Explore the data : Structure of the data, data types, etc.\n",
    "\n",
    "# Display the first few rows of the dataset\n",
    "\n",
    "print(f\"The dataset head is : \\n {dataset.head()}\") #to see a quick view of the dataset"
   ],
   "id": "f385c12f1c057b3f",
   "outputs": [
    {
     "name": "stdout",
     "output_type": "stream",
     "text": [
      "The dataset head is : \n",
      "                                ClientID       Nom       Prénom  \\\n",
      "0  d34f9cab-5d14-469f-aa80-c0146f3b93c7   Walters  Christopher   \n",
      "1  d9b374f9-8cec-4ae7-9137-c1d930d0aae0    Weaver        Linda   \n",
      "2  72855e63-d98e-42e9-a10f-d9e4fac6e82f  Odonnell        Julie   \n",
      "3  3fcb2796-9692-4fcf-affb-0100d9a74ae1     Clark      Charles   \n",
      "4  50b21cc8-6f68-45c5-9b75-335ef55b41b2  Martinez        David   \n",
      "\n",
      "                       Email              Téléphone  \\\n",
      "0       vickie68@hotmail.com     818-767-2351x61325   \n",
      "1    mackrenee@rodriguez.com      892-112-2129x2425   \n",
      "2         alexis55@gmail.com  001-505-122-4709x1134   \n",
      "3  jenniferschmidt@yahoo.com          (101)867-7119   \n",
      "4     hmiddleton@mendoza.com     (820)441-6404x9218   \n",
      "\n",
      "                                             Adresse          Ville  \\\n",
      "0                   Unit 4018 Box 5177, DPO AA 69318      Lauratown   \n",
      "1           19114 Ryan Grove, East Miranda, MO 40887    Herreraview   \n",
      "2           610 Donna Neck, Lake Paulmouth, MA 32585  Lake Erictown   \n",
      "3               177 Anne Bridge, Perezberg, MA 91533  New Andrewton   \n",
      "4  59971 Haynes Glens Apt. 520, Meganhaven, MN 92380  Rodriguezport   \n",
      "\n",
      "   CodePostal                 Pays DateNaissance  ...  \\\n",
      "0       45532  Antigua and Barbuda    1996-09-15  ...   \n",
      "1        6486               Belize    2000-01-11  ...   \n",
      "2       85092              Andorra    1961-06-07  ...   \n",
      "3       87164                Samoa    1970-11-19  ...   \n",
      "4       53640         Burkina Faso    1946-02-26  ...   \n",
      "\n",
      "   CatégorieProduitPréféré FréquenceAchatMensuel  PanierMoyen ScoreFidélité  \\\n",
      "0                    Sport                     6       165.43            85   \n",
      "1             Électronique                     6        71.01            15   \n",
      "2             Alimentation                     9       104.43            10   \n",
      "3             Alimentation                     5       161.23             4   \n",
      "4                     Mode                     1        87.27             6   \n",
      "\n",
      "  NombreRemboursements  MontantTotalRemboursé AvisClient  \\\n",
      "0                    1                  11.68     Neutre   \n",
      "1                    2                 152.13  Satisfait   \n",
      "2                    5                 342.60  Satisfait   \n",
      "3                    0                   0.00  Mécontent   \n",
      "4                    0                   0.00  Mécontent   \n",
      "\n",
      "   AbonnementNewsletter  TypePaiementFavori StatutCompte  \n",
      "0                  True              Paypal      Inactif  \n",
      "1                 False      Carte bancaire        Actif  \n",
      "2                 False       Cryptomonnaie     Suspendu  \n",
      "3                 False            Virement        Actif  \n",
      "4                  True       Cryptomonnaie      Inactif  \n",
      "\n",
      "[5 rows x 31 columns]\n"
     ]
    }
   ],
   "execution_count": 90
  },
  {
   "metadata": {
    "ExecuteTime": {
     "end_time": "2025-03-06T19:23:40.716830Z",
     "start_time": "2025-03-06T19:23:40.711621Z"
    }
   },
   "cell_type": "code",
   "source": [
    "# Display the infos of the dataset\n",
    "\n",
    "print(f\"The dataset info is : \\n {dataset.info()}\") #to see the structure of the dataset"
   ],
   "id": "7b92923c35a5f7c7",
   "outputs": [
    {
     "name": "stdout",
     "output_type": "stream",
     "text": [
      "<class 'pandas.core.frame.DataFrame'>\n",
      "RangeIndex: 1000 entries, 0 to 999\n",
      "Data columns (total 31 columns):\n",
      " #   Column                   Non-Null Count  Dtype  \n",
      "---  ------                   --------------  -----  \n",
      " 0   ClientID                 1000 non-null   object \n",
      " 1   Nom                      1000 non-null   object \n",
      " 2   Prénom                   1000 non-null   object \n",
      " 3   Email                    1000 non-null   object \n",
      " 4   Téléphone                1000 non-null   object \n",
      " 5   Adresse                  1000 non-null   object \n",
      " 6   Ville                    1000 non-null   object \n",
      " 7   CodePostal               1000 non-null   int64  \n",
      " 8   Pays                     1000 non-null   object \n",
      " 9   DateNaissance            1000 non-null   object \n",
      " 10  Âge                      1000 non-null   int64  \n",
      " 11  Sexe                     1000 non-null   object \n",
      " 12  NuméroCarteCrédit        1000 non-null   int64  \n",
      " 13  TypeCarteCrédit          1000 non-null   object \n",
      " 14  DateExpirationCarte      1000 non-null   object \n",
      " 15  SoldeCompte              1000 non-null   float64\n",
      " 16  TypeClient               1000 non-null   object \n",
      " 17  NombreAchats             1000 non-null   int64  \n",
      " 18  MontantTotalAchats       1000 non-null   float64\n",
      " 19  DernierAchat             1000 non-null   object \n",
      " 20  ProduitPréféré           1000 non-null   object \n",
      " 21  CatégorieProduitPréféré  1000 non-null   object \n",
      " 22  FréquenceAchatMensuel    1000 non-null   int64  \n",
      " 23  PanierMoyen              1000 non-null   float64\n",
      " 24  ScoreFidélité            1000 non-null   int64  \n",
      " 25  NombreRemboursements     1000 non-null   int64  \n",
      " 26  MontantTotalRemboursé    1000 non-null   float64\n",
      " 27  AvisClient               1000 non-null   object \n",
      " 28  AbonnementNewsletter     1000 non-null   bool   \n",
      " 29  TypePaiementFavori       1000 non-null   object \n",
      " 30  StatutCompte             1000 non-null   object \n",
      "dtypes: bool(1), float64(4), int64(7), object(19)\n",
      "memory usage: 235.5+ KB\n",
      "The dataset info is : \n",
      " None\n"
     ]
    }
   ],
   "execution_count": 91
  },
  {
   "metadata": {
    "ExecuteTime": {
     "end_time": "2025-03-06T19:23:40.730356Z",
     "start_time": "2025-03-06T19:23:40.728316Z"
    }
   },
   "cell_type": "code",
   "source": [
    "# Display the shape of the dataset\n",
    "\n",
    "print(f\"This dataset have {dataset.shape[0]} entries and {dataset.shape[1]} columns.\") #to see the number of rows and columns in resume, and to see the eventual problems on the dataset"
   ],
   "id": "24103c662aa52a6e",
   "outputs": [
    {
     "name": "stdout",
     "output_type": "stream",
     "text": [
      "This dataset have 1000 entries and 31 columns.\n"
     ]
    }
   ],
   "execution_count": 92
  },
  {
   "metadata": {
    "ExecuteTime": {
     "end_time": "2025-03-06T19:23:40.750707Z",
     "start_time": "2025-03-06T19:23:40.742285Z"
    }
   },
   "cell_type": "code",
   "source": [
    "# Display the descriptive statistics of the dataset\n",
    "\n",
    "print(f\"The dataset describe is : \\n {dataset.describe()}\") #to see the statistical summary of the dataset, to see the eventual problems on the dataset (outliers, etc.)"
   ],
   "id": "63ac21133446afed",
   "outputs": [
    {
     "name": "stdout",
     "output_type": "stream",
     "text": [
      "The dataset describe is : \n",
      "          CodePostal          Âge  NuméroCarteCrédit  SoldeCompte  \\\n",
      "count   1000.000000  1000.000000       1.000000e+03  1000.000000   \n",
      "mean   50576.295000    55.466000       3.992066e+17  2619.975090   \n",
      "std    29093.854764    21.021816       1.288862e+18  1443.421728   \n",
      "min      525.000000    18.000000       6.042067e+10     2.680000   \n",
      "25%    23961.250000    37.000000       1.800195e+14  1385.430000   \n",
      "50%    52513.000000    56.000000       3.505393e+15  2734.705000   \n",
      "75%    76447.000000    73.000000       4.610821e+15  3865.872500   \n",
      "max    99876.000000    91.000000       4.998787e+18  4994.880000   \n",
      "\n",
      "       NombreAchats  MontantTotalAchats  FréquenceAchatMensuel  PanierMoyen  \\\n",
      "count   1000.000000          1000.00000            1000.000000  1000.000000   \n",
      "mean      10.487000          2608.90697               4.879000   238.349630   \n",
      "std        5.890036          2287.38721               3.260213   150.407597   \n",
      "min        0.000000             0.00000               0.000000     0.000000   \n",
      "25%        6.000000           780.31750               2.000000   105.547500   \n",
      "50%       11.000000          1877.64000               5.000000   235.540000   \n",
      "75%       16.000000          4011.89750               8.000000   370.295000   \n",
      "max       20.000000          9752.86000              10.000000   499.830000   \n",
      "\n",
      "       ScoreFidélité  NombreRemboursements  MontantTotalRemboursé  \n",
      "count    1000.000000           1000.000000             1000.00000  \n",
      "mean       51.484000              2.570000              262.85884  \n",
      "std        28.691583              1.705875              248.75859  \n",
      "min         0.000000              0.000000                0.00000  \n",
      "25%        27.000000              1.000000               50.26500  \n",
      "50%        52.000000              3.000000              192.24000  \n",
      "75%        76.000000              4.000000              394.25250  \n",
      "max       100.000000              5.000000              995.98000  \n"
     ]
    }
   ],
   "execution_count": 93
  },
  {
   "metadata": {
    "ExecuteTime": {
     "end_time": "2025-03-06T19:23:40.764787Z",
     "start_time": "2025-03-06T19:23:40.762302Z"
    }
   },
   "cell_type": "code",
   "source": [
    "# Display the data types in the dataset\n",
    "\n",
    "print(f\"The dataset data types are : \\n {dataset.dtypes}\") #to see the data types of the dataset"
   ],
   "id": "f2ae2e4ffb539d28",
   "outputs": [
    {
     "name": "stdout",
     "output_type": "stream",
     "text": [
      "The dataset data types are : \n",
      " ClientID                    object\n",
      "Nom                         object\n",
      "Prénom                      object\n",
      "Email                       object\n",
      "Téléphone                   object\n",
      "Adresse                     object\n",
      "Ville                       object\n",
      "CodePostal                   int64\n",
      "Pays                        object\n",
      "DateNaissance               object\n",
      "Âge                          int64\n",
      "Sexe                        object\n",
      "NuméroCarteCrédit            int64\n",
      "TypeCarteCrédit             object\n",
      "DateExpirationCarte         object\n",
      "SoldeCompte                float64\n",
      "TypeClient                  object\n",
      "NombreAchats                 int64\n",
      "MontantTotalAchats         float64\n",
      "DernierAchat                object\n",
      "ProduitPréféré              object\n",
      "CatégorieProduitPréféré     object\n",
      "FréquenceAchatMensuel        int64\n",
      "PanierMoyen                float64\n",
      "ScoreFidélité                int64\n",
      "NombreRemboursements         int64\n",
      "MontantTotalRemboursé      float64\n",
      "AvisClient                  object\n",
      "AbonnementNewsletter          bool\n",
      "TypePaiementFavori          object\n",
      "StatutCompte                object\n",
      "dtype: object\n"
     ]
    }
   ],
   "execution_count": 94
  },
  {
   "metadata": {},
   "cell_type": "markdown",
   "source": [
    "## 2. Data Cleaning\n",
    "\n",
    "Data cleaning is the process of identifying and correcting errors in the data. This step is essential for ensuring the quality of the data and the accuracy of the analysis. Data cleaning involves several key tasks, including:\n",
    "- [X] Handling missing values\n",
    "- [X] Removing duplicates\n",
    "- [X] Correcting errors\n",
    "- [X] Correcting incoherent values\n",
    "- [X] Standardizing data\n",
    "- [X] Handling outliers\n",
    "- [X] Standardizing data types\n"
   ],
   "id": "2e2f061bfb760744"
  },
  {
   "metadata": {
    "ExecuteTime": {
     "end_time": "2025-03-06T19:23:40.778956Z",
     "start_time": "2025-03-06T19:23:40.776133Z"
    }
   },
   "cell_type": "code",
   "source": [
    "# Data Cleaning : Cleaning the dataset\n",
    "\n",
    "# Handling missing values\n",
    "\n",
    "missing_values_count = dataset.isnull().sum()\n",
    "print(f\"The missing values count is : \\n {missing_values_count}\") #to see the number of missing values in each column of the dataset"
   ],
   "id": "52d4bbd49a9c8d51",
   "outputs": [
    {
     "name": "stdout",
     "output_type": "stream",
     "text": [
      "The missing values count is : \n",
      " ClientID                   0\n",
      "Nom                        0\n",
      "Prénom                     0\n",
      "Email                      0\n",
      "Téléphone                  0\n",
      "Adresse                    0\n",
      "Ville                      0\n",
      "CodePostal                 0\n",
      "Pays                       0\n",
      "DateNaissance              0\n",
      "Âge                        0\n",
      "Sexe                       0\n",
      "NuméroCarteCrédit          0\n",
      "TypeCarteCrédit            0\n",
      "DateExpirationCarte        0\n",
      "SoldeCompte                0\n",
      "TypeClient                 0\n",
      "NombreAchats               0\n",
      "MontantTotalAchats         0\n",
      "DernierAchat               0\n",
      "ProduitPréféré             0\n",
      "CatégorieProduitPréféré    0\n",
      "FréquenceAchatMensuel      0\n",
      "PanierMoyen                0\n",
      "ScoreFidélité              0\n",
      "NombreRemboursements       0\n",
      "MontantTotalRemboursé      0\n",
      "AvisClient                 0\n",
      "AbonnementNewsletter       0\n",
      "TypePaiementFavori         0\n",
      "StatutCompte               0\n",
      "dtype: int64\n"
     ]
    }
   ],
   "execution_count": 95
  },
  {
   "metadata": {
    "ExecuteTime": {
     "end_time": "2025-03-06T19:23:40.795152Z",
     "start_time": "2025-03-06T19:23:40.790523Z"
    }
   },
   "cell_type": "code",
   "source": [
    "# Removing duplicates\n",
    "\n",
    "duplicates_values_count = dataset.duplicated().sum()\n",
    "print(f\"The number of duplicates in the dataset is : {duplicates_values_count}\") #to see the number of duplicates in the dataset"
   ],
   "id": "67896144ccc3232e",
   "outputs": [
    {
     "name": "stdout",
     "output_type": "stream",
     "text": [
      "The number of duplicates in the dataset is : 0\n"
     ]
    }
   ],
   "execution_count": 96
  },
  {
   "metadata": {
    "ExecuteTime": {
     "end_time": "2025-03-06T19:23:40.810486Z",
     "start_time": "2025-03-06T19:23:40.807625Z"
    }
   },
   "cell_type": "code",
   "source": [
    "# Correcting errors\n",
    "\n",
    "columns_to_verify = ['Sexe', 'CatégorieProduitPréféré', 'AvisClient', 'AbonnementNewsletter', 'TypePaiementFavori', 'StatutCompte'] #to see the columns that we want to verify\n",
    "\n",
    "for col in columns_to_verify:\n",
    "    print(f\"\\n🔹 {col} : {dataset[col].nunique()} unique values\") #to see the number of unique values in each column of the dataset\n",
    "    print(dataset[col].unique())  # to see the unique values in each column of the dataset"
   ],
   "id": "cfcaac8ddeb35178",
   "outputs": [
    {
     "name": "stdout",
     "output_type": "stream",
     "text": [
      "\n",
      "🔹 Sexe : 2 unique values\n",
      "['M' 'F']\n",
      "\n",
      "🔹 CatégorieProduitPréféré : 5 unique values\n",
      "['Sport' 'Électronique' 'Alimentation' 'Mode' 'Maison']\n",
      "\n",
      "🔹 AvisClient : 5 unique values\n",
      "['Neutre' 'Satisfait' 'Mécontent' 'Très mécontent' 'Très satisfait']\n",
      "\n",
      "🔹 AbonnementNewsletter : 2 unique values\n",
      "[ True False]\n",
      "\n",
      "🔹 TypePaiementFavori : 4 unique values\n",
      "['Paypal' 'Carte bancaire' 'Cryptomonnaie' 'Virement']\n",
      "\n",
      "🔹 StatutCompte : 3 unique values\n",
      "['Inactif' 'Actif' 'Suspendu']\n"
     ]
    }
   ],
   "execution_count": 97
  },
  {
   "metadata": {
    "ExecuteTime": {
     "end_time": "2025-03-06T19:23:40.827707Z",
     "start_time": "2025-03-06T19:23:40.822344Z"
    }
   },
   "cell_type": "code",
   "source": [
    "# Correcting Incoherent values\n",
    "\n",
    "# Incoherence detection\n",
    "incoherence_achats = dataset[(dataset['NombreAchats'] == 0) & (dataset['MontantTotalAchats'] > 0)]\n",
    "incoherence_panier = dataset[(dataset['MontantTotalAchats'] == 0) & (dataset['PanierMoyen'] > 0)]\n",
    "remboursements_invalides = dataset[dataset['MontantTotalRemboursé'] > dataset['MontantTotalAchats']]\n",
    "\n",
    "print(f\"📌 Nombre de pages incohérentes (NombreAchats = 0 & MontantTotalAchats > 0) : {len(incoherence_achats)}\")\n",
    "print(f\"📌 Nombre de pages incohérentes (MontantTotalAchats = 0 & PanierMoyen > 0) : {len(incoherence_panier)}\")\n",
    "print(f\"📌 Nombre d'enregistrements où le MontantTotalRemboursé > MontantTotalAchats : {len(remboursements_invalides)}\")\n",
    "\n",
    "# Correcting with mean function\n",
    "dataset.loc[(dataset['NombreAchats'] == 0) & (dataset['MontantTotalAchats'] > 0), 'NombreAchats'] = dataset['NombreAchats'].median()\n",
    "dataset.loc[(dataset['PanierMoyen'] == 0) & (dataset['MontantTotalAchats'] > 0), 'MontantTotalAchats'] = dataset['MontantTotalAchats'].median()\n",
    "dataset.loc[(dataset['MontantTotalAchats'] == 0) & (dataset['PanierMoyen'] > 0), 'PanierMoyen'] = 0  # Logic : if the total amount of purchases is 0, the average basket is 0\n",
    "\n",
    "# deletion of the incoherent records\n",
    "df = dataset[dataset['MontantTotalRemboursé'] <= dataset['MontantTotalAchats']]"
   ],
   "id": "1e494ebaad6f6c8",
   "outputs": [
    {
     "name": "stdout",
     "output_type": "stream",
     "text": [
      "📌 Nombre de pages incohérentes (NombreAchats = 0 & MontantTotalAchats > 0) : 0\n",
      "📌 Nombre de pages incohérentes (MontantTotalAchats = 0 & PanierMoyen > 0) : 0\n",
      "📌 Nombre d'enregistrements où le MontantTotalRemboursé > MontantTotalAchats : 108\n"
     ]
    }
   ],
   "execution_count": 98
  },
  {
   "metadata": {
    "ExecuteTime": {
     "end_time": "2025-03-06T19:23:40.846294Z",
     "start_time": "2025-03-06T19:23:40.838768Z"
    }
   },
   "cell_type": "code",
   "source": [
    "# Standardizing data\n",
    "\n",
    "# Standardizing the float columns\n",
    "columns_to_round = ['MontantTotalAchats', 'SoldeCompte', 'PanierMoyen', 'MontantTotalRemboursé'] #to see the columns that we want to round\n",
    "for col in columns_to_round:\n",
    "    dataset[col] = dataset[col].apply(lambda x: round(x, 2)) #to round the values in each column of the dataset\n",
    "\n",
    "# Standardizing the countries and cities columns\n",
    "standardize_name_columns = ['Pays', 'Ville'] #to see the columns that we want to standardize\n",
    "for col in standardize_name_columns:\n",
    "    dataset[col] = dataset[col].str.title() #to standardize the values in each column of the dataset\n",
    "\n",
    "# Standardizing the date columns\n",
    "standardize_date_columns = ['DateNaissance', 'DernierAchat', 'DateExpirationCarte'] #to see the columns that we want to standardize\n",
    "def standardise_date(date):\n",
    "    date = str(date).strip()\n",
    "    if re.match(r\"^\\d{4}-\\d{2}-\\d{2}$\", date):\n",
    "        return date  # yyyy-mm-dd -> yyyy-mm-dd\n",
    "    elif re.match(r\"^\\d{2}/\\d{2}/\\d{4}$\", date):\n",
    "        match = re.match(r\"^(\\d{2})/(\\d{2})/(\\d{4})$\", date)\n",
    "        return f\"{match.group(3)}-{match.group(1)}-{match.group(2)}\"  # mm/dd/yyyy -> yyyy-mm-dd\n",
    "    elif re.match(r\"^(\\d{2})/(\\d{2})$\", date):\n",
    "        match = re.match(r\"^(\\d{2})/(\\d{2})$\", date)\n",
    "        return f\"20{match.group(2)}-{match.group(1)}-01\"  # mm/dd -> yyyy-mm-dd\n",
    "    elif re.match(r\"^\\d{2}-\\d{2}-\\d{4}$\", date):\n",
    "        match = re.match(r\"^(\\d{2})-(\\d{2})-(\\d{4})$\", date)\n",
    "        return f\"{match.group(3)}-{match.group(2)}-{match.group(1)}\"  # dd-mm-yyyy -> yyyy-mm-dd\n",
    "    elif re.match(r\"^\\d{2}-\\d{2}-\\d{2}$\", date):\n",
    "        match = re.match(r\"^(\\d{2})-(\\d{2})-(\\d{2})$\", date)\n",
    "        return f\"20{match.group(3)}-{match.group(2)}-{match.group(1)}\"  # dd-mm-yy -> yyyy-mm-dd\n",
    "    return date\n",
    "\n",
    "for col in standardize_date_columns:\n",
    "    dataset[col] = dataset[col].apply(standardise_date) #to standardize the values in each column of the dataset"
   ],
   "id": "2d0ae65127993e39",
   "outputs": [],
   "execution_count": 99
  },
  {
   "metadata": {
    "ExecuteTime": {
     "end_time": "2025-03-06T19:23:40.898661Z",
     "start_time": "2025-03-06T19:23:40.857955Z"
    }
   },
   "cell_type": "code",
   "source": [
    "# Handling outliers (Outliers detection)\n",
    "\n",
    "# Quartiles and IQR for outliers detection\n",
    "Q1 = dataset['PanierMoyen'].quantile(0.25)\n",
    "Q3 = dataset['PanierMoyen'].quantile(0.75)\n",
    "IQR = Q3 - Q1\n",
    "\n",
    "# bounds definition for outliers detection\n",
    "lower_bound = Q1 - 1.5 * IQR\n",
    "upper_bound = Q3 + 1.5 * IQR\n",
    "\n",
    "# outliers identification\n",
    "outliers = dataset[(dataset['PanierMoyen'] < lower_bound) | (dataset['PanierMoyen'] > upper_bound)]\n",
    "print(f\"Outliers numbers find : {len(outliers)}\")\n",
    "display(outliers)\n",
    "\n",
    "# PanierMoyen graphic representation\n",
    "\n",
    "# Boxplot of PanierMoyen\n",
    "plt.figure(figsize=(10,5))\n",
    "sns.boxplot(x=dataset['PanierMoyen'])\n",
    "plt.title(\"Boxplot of PanierMoyen\")\n",
    "plt.show()"
   ],
   "id": "f35003b548ad3f8f",
   "outputs": [
    {
     "name": "stdout",
     "output_type": "stream",
     "text": [
      "Outliers numbers find : 0\n"
     ]
    },
    {
     "data": {
      "text/plain": [
       "Empty DataFrame\n",
       "Columns: [ClientID, Nom, Prénom, Email, Téléphone, Adresse, Ville, CodePostal, Pays, DateNaissance, Âge, Sexe, NuméroCarteCrédit, TypeCarteCrédit, DateExpirationCarte, SoldeCompte, TypeClient, NombreAchats, MontantTotalAchats, DernierAchat, ProduitPréféré, CatégorieProduitPréféré, FréquenceAchatMensuel, PanierMoyen, ScoreFidélité, NombreRemboursements, MontantTotalRemboursé, AvisClient, AbonnementNewsletter, TypePaiementFavori, StatutCompte]\n",
       "Index: []\n",
       "\n",
       "[0 rows x 31 columns]"
      ],
      "text/html": [
       "<div>\n",
       "<style scoped>\n",
       "    .dataframe tbody tr th:only-of-type {\n",
       "        vertical-align: middle;\n",
       "    }\n",
       "\n",
       "    .dataframe tbody tr th {\n",
       "        vertical-align: top;\n",
       "    }\n",
       "\n",
       "    .dataframe thead th {\n",
       "        text-align: right;\n",
       "    }\n",
       "</style>\n",
       "<table border=\"1\" class=\"dataframe\">\n",
       "  <thead>\n",
       "    <tr style=\"text-align: right;\">\n",
       "      <th></th>\n",
       "      <th>ClientID</th>\n",
       "      <th>Nom</th>\n",
       "      <th>Prénom</th>\n",
       "      <th>Email</th>\n",
       "      <th>Téléphone</th>\n",
       "      <th>Adresse</th>\n",
       "      <th>Ville</th>\n",
       "      <th>CodePostal</th>\n",
       "      <th>Pays</th>\n",
       "      <th>DateNaissance</th>\n",
       "      <th>...</th>\n",
       "      <th>CatégorieProduitPréféré</th>\n",
       "      <th>FréquenceAchatMensuel</th>\n",
       "      <th>PanierMoyen</th>\n",
       "      <th>ScoreFidélité</th>\n",
       "      <th>NombreRemboursements</th>\n",
       "      <th>MontantTotalRemboursé</th>\n",
       "      <th>AvisClient</th>\n",
       "      <th>AbonnementNewsletter</th>\n",
       "      <th>TypePaiementFavori</th>\n",
       "      <th>StatutCompte</th>\n",
       "    </tr>\n",
       "  </thead>\n",
       "  <tbody>\n",
       "  </tbody>\n",
       "</table>\n",
       "<p>0 rows × 31 columns</p>\n",
       "</div>"
      ]
     },
     "metadata": {},
     "output_type": "display_data"
    },
    {
     "data": {
      "text/plain": [
       "<Figure size 1000x500 with 1 Axes>"
      ],
      "image/png": "[encoded data removed]"
     },
     "metadata": {},
     "output_type": "display_data"
    }
   ],
   "execution_count": 100
  },
  {
   "metadata": {
    "ExecuteTime": {
     "end_time": "2025-03-06T19:23:40.921077Z",
     "start_time": "2025-03-06T19:23:40.916659Z"
    }
   },
   "cell_type": "code",
   "source": [
    "# Standardizing data types\n",
    "\n",
    "# Standardizing the data types of the columns\n",
    "date_standardizing = ['DateNaissance', 'DernierAchat', 'DateExpirationCarte'] #to see the columns that we want to standardize\n",
    "\n",
    "for col in date_standardizing:\n",
    "    dataset[col] = pd.to_datetime(dataset[col]) #to convert the values in each column of the dataset to datetime\n",
    "\n",
    "# data types detection\n",
    "print(f\"The dataset data types after cleaning are : \\n {dataset.dtypes}\") #to see the data types of the dataset"
   ],
   "id": "39e5f6631c00c023",
   "outputs": [
    {
     "name": "stdout",
     "output_type": "stream",
     "text": [
      "The dataset data types after cleaning are : \n",
      " ClientID                           object\n",
      "Nom                                object\n",
      "Prénom                             object\n",
      "Email                              object\n",
      "Téléphone                          object\n",
      "Adresse                            object\n",
      "Ville                              object\n",
      "CodePostal                          int64\n",
      "Pays                               object\n",
      "DateNaissance              datetime64[ns]\n",
      "Âge                                 int64\n",
      "Sexe                               object\n",
      "NuméroCarteCrédit                   int64\n",
      "TypeCarteCrédit                    object\n",
      "DateExpirationCarte        datetime64[ns]\n",
      "SoldeCompte                       float64\n",
      "TypeClient                         object\n",
      "NombreAchats                        int64\n",
      "MontantTotalAchats                float64\n",
      "DernierAchat               datetime64[ns]\n",
      "ProduitPréféré                     object\n",
      "CatégorieProduitPréféré            object\n",
      "FréquenceAchatMensuel               int64\n",
      "PanierMoyen                       float64\n",
      "ScoreFidélité                       int64\n",
      "NombreRemboursements                int64\n",
      "MontantTotalRemboursé             float64\n",
      "AvisClient                         object\n",
      "AbonnementNewsletter                 bool\n",
      "TypePaiementFavori                 object\n",
      "StatutCompte                       object\n",
      "dtype: object\n"
     ]
    }
   ],
   "execution_count": 101
  },
  {
   "metadata": {},
   "cell_type": "markdown",
   "source": [
    "## 3. Data Transformation (Anonymization, pseudonomization, columns selection etc...)\n",
    "Data transformation is the process of converting raw data into a format that is suitable for analysis. This step involves several key tasks, including:\n",
    "- [X] Anonymization\n",
    "- [X] Pseudonymization\n",
    "- [X] Aggregation\n",
    "- [X] Data reduction\n",
    "- [X] Data Addition"
   ],
   "id": "ce79e579e4a2500d"
  },
  {
   "metadata": {
    "ExecuteTime": {
     "end_time": "2025-03-06T19:23:40.943518Z",
     "start_time": "2025-03-06T19:23:40.938900Z"
    }
   },
   "cell_type": "code",
   "source": [
    "# Anonymization\n",
    "\n",
    "# Nom et Prénom : Anonymisation\n",
    "def anonymize_name(name):\n",
    "    # return hashlib.sha256(name.encode()).hexdigest()[:8]\n",
    "    return hashlib.md5(name.encode()).hexdigest()\n",
    "\n",
    "dataset['Nom'] = dataset['Nom'].astype(str).apply(anonymize_name)\n",
    "dataset['Prénom'] = dataset['Prénom'].astype(str).apply(anonymize_name)\n",
    "\n",
    "# Adresse email : Anonymisation\n",
    "def anonymize_email(email):\n",
    "    username = email.split('@')[0]\n",
    "    hashed_username = hashlib.md5(username.encode()).hexdigest()\n",
    "    return f\"{hashed_username}@masked.com\"\n",
    "\n",
    "dataset['Email'] = dataset['Email'].astype(str).apply(anonymize_email)\n",
    "\n",
    "# Adresse : Anonymisation\n",
    "dataset['Adresse'] = \"masked\"\n",
    "\n",
    "# Téléphone : Anonymisation\n",
    "dataset['Téléphone'] = \"masked\""
   ],
   "id": "f45d8161d8edf1a7",
   "outputs": [],
   "execution_count": 102
  },
  {
   "metadata": {
    "ExecuteTime": {
     "end_time": "2025-03-06T19:23:40.959923Z",
     "start_time": "2025-03-06T19:23:40.955636Z"
    }
   },
   "cell_type": "code",
   "source": [
    "# Pseudonymization\n",
    "\n",
    "# Pseudonymization of the NumeroCarteCredit column\n",
    "def pseudonymize_credit_card(card_number):\n",
    "    return f\"**** **** **** {card_number[-4:]}\"  # to keep only the last 4 digits of the credit card number\n",
    "\n",
    "dataset['NuméroCarteCrédit'] = dataset['NuméroCarteCrédit'].astype(str).apply(pseudonymize_credit_card)\n",
    "\n",
    "# Pseudonymization of the DateExpirationCarte column\n",
    "def pseudonymize_credit_card_expiration(expiration_date):\n",
    "    return expiration_date[-2:]  # to keep only the last 2 digits of the expiration date\n",
    "\n",
    "dataset['DateExpirationCarte'] = dataset['DateExpirationCarte'].astype(str).apply(pseudonymize_credit_card_expiration)\n",
    "\n",
    "# Pseudonymization of the code postal column\n",
    "def pseudonymize_postal_code(postal_code):\n",
    "    return postal_code[:2] + \"***\"  # to keep only the first 2 digits of the postal code"
   ],
   "id": "c0c8d4b4cfd7b6e5",
   "outputs": [],
   "execution_count": 103
  },
  {
   "metadata": {
    "ExecuteTime": {
     "end_time": "2025-03-06T19:23:40.977732Z",
     "start_time": "2025-03-06T19:23:40.973680Z"
    }
   },
   "cell_type": "code",
   "source": [
    "# Aggregation\n",
    "\n",
    "# Aggregation of the age column\n",
    "bins = [0, 18, 25, 35, 45, 55, 65, 100]  # age gap definition\n",
    "labels = [\"0-18\", \"19-25\", \"26-35\", \"36-45\", \"46-55\", \"56-65\", \"65+\"]\n",
    "\n",
    "dataset['Âge'] = pd.cut(dataset['Âge'], bins=bins, labels=labels)"
   ],
   "id": "9d28d0f6fa9f0421",
   "outputs": [],
   "execution_count": 104
  },
  {
   "metadata": {
    "ExecuteTime": {
     "end_time": "2025-03-06T19:23:40.991550Z",
     "start_time": "2025-03-06T19:23:40.989603Z"
    }
   },
   "cell_type": "code",
   "source": [
    "# Data Reduction\n",
    "\n",
    "# Columns_to_delete = ['CodePostal', 'Nom', 'Prénom', 'Email', 'Adresse', 'Téléphone', 'DateNaissance', 'NuméroCarteCrédit', 'DateExpirationCarte', 'SoldeCompte']\n",
    "# dataset.drop(columns=Columns_to_delete, inplace=True) #to delete the columns that we don't need anymore\n",
    "# dataset = dataset[dataset['MontantTotalRemboursé'] <= dataset['MontantTotalAchats']]"
   ],
   "id": "658085976fc03822",
   "outputs": [],
   "execution_count": 105
  },
  {
   "metadata": {
    "ExecuteTime": {
     "end_time": "2025-03-06T19:23:41.012361Z",
     "start_time": "2025-03-06T19:23:41.004817Z"
    }
   },
   "cell_type": "code",
   "source": [
    "# Data Addition\n",
    "\n",
    "# Adding the TauxRemboursement column\n",
    "dataset['TauxRemboursement'] = np.where(\n",
    "    dataset['MontantTotalAchats'] == 0,  # Case where the total amount of purchases is 0\n",
    "    0,  # Replace by 0\n",
    "    dataset['MontantTotalRemboursé'] / dataset['MontantTotalAchats']  # Instead normal calculation\n",
    ")\n",
    "\n",
    "# Adding the MontantTotalDepensé column\n",
    "dataset['MontantTotalDepensé'] = dataset['MontantTotalAchats'] - dataset['MontantTotalRemboursé']\n",
    "\n",
    "# Adding the Sup 5 buying column\n",
    "dataset['AchatsSup5'] = dataset['NombreAchats'].apply(lambda x: 'True' if x > 5 else 'False')\n",
    "\n",
    "# Adding Categories of clients column\n",
    "bins = [0, 100, 500, 1000, 5000, float(\"inf\")]\n",
    "labels = [\"Petit Acheteur\", \"Acheteur Régulier\", \"Bon Client\", \"Gros Acheteur\", \"VIP\"]\n",
    "dataset['CatégorieClient'] = pd.cut(dataset['MontantTotalAchats'].fillna(0), bins=bins, labels=labels, right=False)"
   ],
   "id": "93aa27f40321f17c",
   "outputs": [],
   "execution_count": 106
  },
  {
   "metadata": {},
   "cell_type": "markdown",
   "source": [
    "## 4. Validation\n",
    "Data validation is the process of ensuring that the data is accurate, complete, and consistent. This step involves several key tasks, including:\n",
    "- [X] Data profiling"
   ],
   "id": "cd16d3b57713f8e6"
  },
  {
   "metadata": {
    "ExecuteTime": {
     "end_time": "2025-03-06T19:23:41.074263Z",
     "start_time": "2025-03-06T19:23:41.070083Z"
    }
   },
   "cell_type": "code",
   "source": [
    "# Data profiling after cleaning and transformation\n",
    "\n",
    "# Display the first few rows of the dataset after cleaning and transformation\n",
    "\n",
    "print(f\"The clean dataset head is : \\n {dataset.head()}\") #to see a quick view of the dataset"
   ],
   "id": "fbc121e30a2defb3",
   "outputs": [
    {
     "name": "stdout",
     "output_type": "stream",
     "text": [
      "The clean dataset head is : \n",
      "                                ClientID                               Nom  \\\n",
      "0  d34f9cab-5d14-469f-aa80-c0146f3b93c7  0971aba7c51df5639ef9551c53ef283a   \n",
      "1  d9b374f9-8cec-4ae7-9137-c1d930d0aae0  410f8051a15a4c16e5cdfccb9dbf547b   \n",
      "2  72855e63-d98e-42e9-a10f-d9e4fac6e82f  78908e63501bc0a8ee6fc8ede8aeb2dc   \n",
      "3  3fcb2796-9692-4fcf-affb-0100d9a74ae1  a97fedbce30ecfbc5f77f23789b0ee00   \n",
      "4  50b21cc8-6f68-45c5-9b75-335ef55b41b2  67d36db472159fcb8c55e03a052bcb74   \n",
      "\n",
      "                             Prénom  \\\n",
      "0  5447aa4026288039fccf95cf270282b3   \n",
      "1  96c11895e7dc02ef601772a3f77587ac   \n",
      "2  2964815d03a032c8ca37ac5d557647dd   \n",
      "3  399423ff652ebb6a6701be7ec3202fc6   \n",
      "4  464e07afc9e46359fb480839150595c5   \n",
      "\n",
      "                                         Email Téléphone Adresse  \\\n",
      "0  0b8155d379c4242f54a0eae8e5bdd4e7@masked.com    masked  masked   \n",
      "1  0cfca1a89777b3f7a8cd8f60e9ad23d5@masked.com    masked  masked   \n",
      "2  1da6cb87bc7edef7f3b2ce40aa0e36bf@masked.com    masked  masked   \n",
      "3  26c30f441474658f9708271a5c9a6410@masked.com    masked  masked   \n",
      "4  f7b69e8fcfd3d8541503609c5289c145@masked.com    masked  masked   \n",
      "\n",
      "           Ville  CodePostal                 Pays DateNaissance  ...  \\\n",
      "0      Lauratown       45532  Antigua And Barbuda    1996-09-15  ...   \n",
      "1    Herreraview        6486               Belize    2000-01-11  ...   \n",
      "2  Lake Erictown       85092              Andorra    1961-06-07  ...   \n",
      "3  New Andrewton       87164                Samoa    1970-11-19  ...   \n",
      "4  Rodriguezport       53640         Burkina Faso    1946-02-26  ...   \n",
      "\n",
      "  NombreRemboursements MontantTotalRemboursé AvisClient AbonnementNewsletter  \\\n",
      "0                    1                 11.68     Neutre                 True   \n",
      "1                    2                152.13  Satisfait                False   \n",
      "2                    5                342.60  Satisfait                False   \n",
      "3                    0                  0.00  Mécontent                False   \n",
      "4                    0                  0.00  Mécontent                 True   \n",
      "\n",
      "  TypePaiementFavori  StatutCompte TauxRemboursement  MontantTotalDepensé  \\\n",
      "0             Paypal       Inactif          0.010086              1146.31   \n",
      "1     Carte bancaire         Actif          0.714091                60.91   \n",
      "2      Cryptomonnaie      Suspendu          0.252368              1014.94   \n",
      "3           Virement         Actif          0.000000               806.13   \n",
      "4      Cryptomonnaie       Inactif          0.000000               785.47   \n",
      "\n",
      "   AchatsSup5    CatégorieClient  \n",
      "0        True      Gros Acheteur  \n",
      "1       False  Acheteur Régulier  \n",
      "2        True      Gros Acheteur  \n",
      "3       False         Bon Client  \n",
      "4        True         Bon Client  \n",
      "\n",
      "[5 rows x 35 columns]\n"
     ]
    }
   ],
   "execution_count": 107
  },
  {
   "metadata": {
    "ExecuteTime": {
     "end_time": "2025-03-06T19:23:41.085108Z",
     "start_time": "2025-03-06T19:23:41.078898Z"
    }
   },
   "cell_type": "code",
   "source": [
    "# Display the infos of the dataset\n",
    "\n",
    "print(f\"The dataset info is : \\n {dataset.info()}\") #to see the structure of the dataset"
   ],
   "id": "7589772ebfb38d5e",
   "outputs": [
    {
     "name": "stdout",
     "output_type": "stream",
     "text": [
      "<class 'pandas.core.frame.DataFrame'>\n",
      "RangeIndex: 1000 entries, 0 to 999\n",
      "Data columns (total 35 columns):\n",
      " #   Column                   Non-Null Count  Dtype         \n",
      "---  ------                   --------------  -----         \n",
      " 0   ClientID                 1000 non-null   object        \n",
      " 1   Nom                      1000 non-null   object        \n",
      " 2   Prénom                   1000 non-null   object        \n",
      " 3   Email                    1000 non-null   object        \n",
      " 4   Téléphone                1000 non-null   object        \n",
      " 5   Adresse                  1000 non-null   object        \n",
      " 6   Ville                    1000 non-null   object        \n",
      " 7   CodePostal               1000 non-null   int64         \n",
      " 8   Pays                     1000 non-null   object        \n",
      " 9   DateNaissance            1000 non-null   datetime64[ns]\n",
      " 10  Âge                      1000 non-null   category      \n",
      " 11  Sexe                     1000 non-null   object        \n",
      " 12  NuméroCarteCrédit        1000 non-null   object        \n",
      " 13  TypeCarteCrédit          1000 non-null   object        \n",
      " 14  DateExpirationCarte      1000 non-null   object        \n",
      " 15  SoldeCompte              1000 non-null   float64       \n",
      " 16  TypeClient               1000 non-null   object        \n",
      " 17  NombreAchats             1000 non-null   int64         \n",
      " 18  MontantTotalAchats       1000 non-null   float64       \n",
      " 19  DernierAchat             1000 non-null   datetime64[ns]\n",
      " 20  ProduitPréféré           1000 non-null   object        \n",
      " 21  CatégorieProduitPréféré  1000 non-null   object        \n",
      " 22  FréquenceAchatMensuel    1000 non-null   int64         \n",
      " 23  PanierMoyen              1000 non-null   float64       \n",
      " 24  ScoreFidélité            1000 non-null   int64         \n",
      " 25  NombreRemboursements     1000 non-null   int64         \n",
      " 26  MontantTotalRemboursé    1000 non-null   float64       \n",
      " 27  AvisClient               1000 non-null   object        \n",
      " 28  AbonnementNewsletter     1000 non-null   bool          \n",
      " 29  TypePaiementFavori       1000 non-null   object        \n",
      " 30  StatutCompte             1000 non-null   object        \n",
      " 31  TauxRemboursement        1000 non-null   float64       \n",
      " 32  MontantTotalDepensé      1000 non-null   float64       \n",
      " 33  AchatsSup5               1000 non-null   object        \n",
      " 34  CatégorieClient          1000 non-null   category      \n",
      "dtypes: bool(1), category(2), datetime64[ns](2), float64(6), int64(5), object(19)\n",
      "memory usage: 253.6+ KB\n",
      "The dataset info is : \n",
      " None\n"
     ]
    }
   ],
   "execution_count": 108
  },
  {
   "metadata": {
    "ExecuteTime": {
     "end_time": "2025-03-06T19:23:41.099577Z",
     "start_time": "2025-03-06T19:23:41.097921Z"
    }
   },
   "cell_type": "code",
   "source": [
    "# Display the shape of the dataset\n",
    "\n",
    "print(f\"This dataset have {dataset.shape[0]} entries and {dataset.shape[1]} columns after the cleaning and the transformation.\")"
   ],
   "id": "7e0e6c32eb8abaa1",
   "outputs": [
    {
     "name": "stdout",
     "output_type": "stream",
     "text": [
      "This dataset have 1000 entries and 35 columns after the cleaning and the transformation.\n"
     ]
    }
   ],
   "execution_count": 109
  },
  {
   "metadata": {
    "ExecuteTime": {
     "end_time": "2025-03-06T19:23:41.130894Z",
     "start_time": "2025-03-06T19:23:41.120384Z"
    }
   },
   "cell_type": "code",
   "source": [
    "# Description of the dataset after cleaning and transformation\n",
    "print(f\"The dataset describe is : \\n {dataset.describe()}\") #to see the statistical summary of the dataset"
   ],
   "id": "d74498c26d9783a7",
   "outputs": [
    {
     "name": "stdout",
     "output_type": "stream",
     "text": [
      "The dataset describe is : \n",
      "          CodePostal               DateNaissance  SoldeCompte  NombreAchats  \\\n",
      "count   1000.000000                        1000  1000.000000   1000.000000   \n",
      "mean   50576.295000  1970-01-15 05:29:45.600000  2619.975090     10.487000   \n",
      "min      525.000000         1934-02-18 00:00:00     2.680000      0.000000   \n",
      "25%    23961.250000         1952-05-24 12:00:00  1385.430000      6.000000   \n",
      "50%    52513.000000         1969-09-27 00:00:00  2734.705000     11.000000   \n",
      "75%    76447.000000         1988-06-25 06:00:00  3865.872500     16.000000   \n",
      "max    99876.000000         2007-01-30 00:00:00  4994.880000     20.000000   \n",
      "std    29093.854764                         NaN  1443.421728      5.890036   \n",
      "\n",
      "       MontantTotalAchats                   DernierAchat  \\\n",
      "count          1000.00000                           1000   \n",
      "mean           2608.90697  2024-02-17 10:30:43.199999744   \n",
      "min               0.00000            2023-02-11 00:00:00   \n",
      "25%             780.31750            2023-08-28 00:00:00   \n",
      "50%            1877.64000            2024-02-21 00:00:00   \n",
      "75%            4011.89750            2024-08-13 18:00:00   \n",
      "max            9752.86000            2025-02-10 00:00:00   \n",
      "std            2287.38721                            NaN   \n",
      "\n",
      "       FréquenceAchatMensuel  PanierMoyen  ScoreFidélité  \\\n",
      "count            1000.000000  1000.000000    1000.000000   \n",
      "mean                4.879000   238.349630      51.484000   \n",
      "min                 0.000000     0.000000       0.000000   \n",
      "25%                 2.000000   105.547500      27.000000   \n",
      "50%                 5.000000   235.540000      52.000000   \n",
      "75%                 8.000000   370.295000      76.000000   \n",
      "max                10.000000   499.830000     100.000000   \n",
      "std                 3.260213   150.407597      28.691583   \n",
      "\n",
      "       NombreRemboursements  MontantTotalRemboursé  TauxRemboursement  \\\n",
      "count           1000.000000             1000.00000        1000.000000   \n",
      "mean               2.570000              262.85884           0.365121   \n",
      "min                0.000000                0.00000           0.000000   \n",
      "25%                1.000000               50.26500           0.013796   \n",
      "50%                3.000000              192.24000           0.076646   \n",
      "75%                4.000000              394.25250           0.243723   \n",
      "max                5.000000              995.98000          19.416757   \n",
      "std                1.705875              248.75859           1.202916   \n",
      "\n",
      "       MontantTotalDepensé  \n",
      "count          1000.000000  \n",
      "mean           2346.048130  \n",
      "min            -884.480000  \n",
      "25%             519.815000  \n",
      "50%            1652.380000  \n",
      "75%            3782.015000  \n",
      "max            9695.960000  \n",
      "std            2302.373012  \n"
     ]
    }
   ],
   "execution_count": 110
  },
  {
   "metadata": {
    "ExecuteTime": {
     "end_time": "2025-03-06T19:23:41.146871Z",
     "start_time": "2025-03-06T19:23:41.144319Z"
    }
   },
   "cell_type": "code",
   "source": [
    "# Data types verification\n",
    "print(f\"The dataset data types are : \\n {dataset.dtypes}\") #to see the data types of the dataset"
   ],
   "id": "8ecb3d92cf0349c6",
   "outputs": [
    {
     "name": "stdout",
     "output_type": "stream",
     "text": [
      "The dataset data types are : \n",
      " ClientID                           object\n",
      "Nom                                object\n",
      "Prénom                             object\n",
      "Email                              object\n",
      "Téléphone                          object\n",
      "Adresse                            object\n",
      "Ville                              object\n",
      "CodePostal                          int64\n",
      "Pays                               object\n",
      "DateNaissance              datetime64[ns]\n",
      "Âge                              category\n",
      "Sexe                               object\n",
      "NuméroCarteCrédit                  object\n",
      "TypeCarteCrédit                    object\n",
      "DateExpirationCarte                object\n",
      "SoldeCompte                       float64\n",
      "TypeClient                         object\n",
      "NombreAchats                        int64\n",
      "MontantTotalAchats                float64\n",
      "DernierAchat               datetime64[ns]\n",
      "ProduitPréféré                     object\n",
      "CatégorieProduitPréféré            object\n",
      "FréquenceAchatMensuel               int64\n",
      "PanierMoyen                       float64\n",
      "ScoreFidélité                       int64\n",
      "NombreRemboursements                int64\n",
      "MontantTotalRemboursé             float64\n",
      "AvisClient                         object\n",
      "AbonnementNewsletter                 bool\n",
      "TypePaiementFavori                 object\n",
      "StatutCompte                       object\n",
      "TauxRemboursement                 float64\n",
      "MontantTotalDepensé               float64\n",
      "AchatsSup5                         object\n",
      "CatégorieClient                  category\n",
      "dtype: object\n"
     ]
    }
   ],
   "execution_count": 111
  },
  {
   "metadata": {
    "ExecuteTime": {
     "end_time": "2025-03-06T19:23:41.162452Z",
     "start_time": "2025-03-06T19:23:41.158769Z"
    }
   },
   "cell_type": "code",
   "source": [
    "# missing values verification\n",
    "print(dataset.isnull().sum()) #to see the number of missing values in each column of the dataset"
   ],
   "id": "a023d9eabf2667e5",
   "outputs": [
    {
     "name": "stdout",
     "output_type": "stream",
     "text": [
      "ClientID                   0\n",
      "Nom                        0\n",
      "Prénom                     0\n",
      "Email                      0\n",
      "Téléphone                  0\n",
      "Adresse                    0\n",
      "Ville                      0\n",
      "CodePostal                 0\n",
      "Pays                       0\n",
      "DateNaissance              0\n",
      "Âge                        0\n",
      "Sexe                       0\n",
      "NuméroCarteCrédit          0\n",
      "TypeCarteCrédit            0\n",
      "DateExpirationCarte        0\n",
      "SoldeCompte                0\n",
      "TypeClient                 0\n",
      "NombreAchats               0\n",
      "MontantTotalAchats         0\n",
      "DernierAchat               0\n",
      "ProduitPréféré             0\n",
      "CatégorieProduitPréféré    0\n",
      "FréquenceAchatMensuel      0\n",
      "PanierMoyen                0\n",
      "ScoreFidélité              0\n",
      "NombreRemboursements       0\n",
      "MontantTotalRemboursé      0\n",
      "AvisClient                 0\n",
      "AbonnementNewsletter       0\n",
      "TypePaiementFavori         0\n",
      "StatutCompte               0\n",
      "TauxRemboursement          0\n",
      "MontantTotalDepensé        0\n",
      "AchatsSup5                 0\n",
      "CatégorieClient            0\n",
      "dtype: int64\n"
     ]
    }
   ],
   "execution_count": 112
  },
  {
   "metadata": {},
   "cell_type": "markdown",
   "source": [
    "## 5. Data Export (To CSV)\n",
    "The final step in the data processing pipeline is to export the cleaned and transformed data to a file format that can be used for analysis. This step involves exporting the data to a CSV or Excel file, which can then be imported into a data visualization tool for further analysis."
   ],
   "id": "6f1e70ade75cca53"
  },
  {
   "metadata": {
    "ExecuteTime": {
     "end_time": "2025-03-06T19:23:41.187954Z",
     "start_time": "2025-03-06T19:23:41.175233Z"
    }
   },
   "cell_type": "code",
   "source": [
    "# Exporting the cleaned and transformed data to a CSV file\n",
    "export_path = \"data/processed/Mini_Projet_Evaluation_Cleaned_transform.csv\"\n",
    "\n",
    "dataset.to_csv(export_path, index=False, encoding='utf-8')\n",
    "print(f\"The file was exported successfully : {export_path}\")"
   ],
   "id": "eb6212e08230c2dc",
   "outputs": [
    {
     "name": "stdout",
     "output_type": "stream",
     "text": [
      "The file was exported successfully : data/processed/Mini_Projet_Evaluation_Cleaned_transform.csv\n"
     ]
    }
   ],
   "execution_count": 113
  }
 ],
 "metadata": {
  "kernelspec": {
   "display_name": "Python 3",
   "language": "python",
   "name": "python3"
  },
  "language_info": {
   "codemirror_mode": {
    "name": "ipython",
    "version": 2
   },
   "file_extension": ".py",
   "mimetype": "text/x-python",
   "name": "python",
   "nbconvert_exporter": "python",
   "pygments_lexer": "ipython2",
   "version": "2.7.6"
  }
 },
 "nbformat": 4,
 "nbformat_minor": 5
}
